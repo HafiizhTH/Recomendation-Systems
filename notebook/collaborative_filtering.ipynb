{
 "cells": [
  {
   "cell_type": "code",
   "execution_count": 91,
   "metadata": {},
   "outputs": [],
   "source": [
    "import pandas as pd\n",
    "import json\n",
    "import math\n",
    "import operator"
   ]
  },
  {
   "cell_type": "markdown",
   "metadata": {},
   "source": [
    "## Business Understanding"
   ]
  },
  {
   "cell_type": "markdown",
   "metadata": {},
   "source": [
    "**Objective**:"
   ]
  },
  {
   "cell_type": "markdown",
   "metadata": {},
   "source": [
    "## Data Understanding"
   ]
  },
  {
   "cell_type": "code",
   "execution_count": 95,
   "metadata": {},
   "outputs": [],
   "source": [
    "file_path = '../data/dataset.json'\n",
    "\n",
    "def load_json(file_path):\n",
    "    with open(file_path) as file:\n",
    "        return json.load(file)"
   ]
  },
  {
   "cell_type": "code",
   "execution_count": 96,
   "metadata": {},
   "outputs": [],
   "source": [
    "data = load_json(file_path)"
   ]
  },
  {
   "cell_type": "code",
   "execution_count": 98,
   "metadata": {},
   "outputs": [],
   "source": [
    "def get_common_movies(criticA, criticB):\n",
    "    return [movie for movie in data[criticA] if movie in data[criticB]]"
   ]
  },
  {
   "cell_type": "code",
   "execution_count": 116,
   "metadata": {},
   "outputs": [
    {
     "data": {
      "text/plain": [
       "['Marlon Brando',\n",
       " 'Stephen King',\n",
       " 'Steven Spielberg',\n",
       " 'George Lucas',\n",
       " 'Al Pacino',\n",
       " 'Robert DeNiro',\n",
       " 'Robert Duvall',\n",
       " 'Jack Nicholson',\n",
       " 'Morgan Freeman',\n",
       " 'Harrison Ford',\n",
       " 'Tom Hanks',\n",
       " 'Francis Ford Coppola',\n",
       " 'Martin Scorsese',\n",
       " 'Diane Keaton',\n",
       " 'Richard Dreyfuss',\n",
       " 'Joe Pesci']"
      ]
     },
     "execution_count": 116,
     "metadata": {},
     "output_type": "execute_result"
    }
   ],
   "source": [
    "list(data.keys())"
   ]
  },
  {
   "cell_type": "code",
   "execution_count": 100,
   "metadata": {},
   "outputs": [
    {
     "data": {
      "text/plain": [
       "{'The Godfather': 5.0,\n",
       " 'The Godfather Part II': 4.29,\n",
       " 'Apocalypse Now': 5.0,\n",
       " 'Jaws': 1.72}"
      ]
     },
     "execution_count": 100,
     "metadata": {},
     "output_type": "execute_result"
    }
   ],
   "source": [
    "data[\"Marlon Brando\"]"
   ]
  },
  {
   "cell_type": "code",
   "execution_count": 101,
   "metadata": {},
   "outputs": [
    {
     "data": {
      "text/plain": [
       "['The Godfather', 'The Godfather Part II']"
      ]
     },
     "execution_count": 101,
     "metadata": {},
     "output_type": "execute_result"
    }
   ],
   "source": [
    "get_common_movies(\"Marlon Brando\", \"Robert DeNiro\")"
   ]
  },
  {
   "cell_type": "code",
   "execution_count": 117,
   "metadata": {},
   "outputs": [],
   "source": [
    "def get_review(criticA, criticB):\n",
    "    common_movies = get_common_movies(criticA, criticB)\n",
    "    return [(data[criticA][movie], data[criticB][movie]) for movie in common_movies]"
   ]
  },
  {
   "cell_type": "code",
   "execution_count": 118,
   "metadata": {},
   "outputs": [
    {
     "data": {
      "text/plain": [
       "[(5.0, 3.07), (4.29, 4.29)]"
      ]
     },
     "execution_count": 118,
     "metadata": {},
     "output_type": "execute_result"
    }
   ],
   "source": [
    "get_review(\"Marlon Brando\", \"Robert DeNiro\")"
   ]
  },
  {
   "cell_type": "code",
   "execution_count": 119,
   "metadata": {},
   "outputs": [],
   "source": [
    "def euclidean_distance(points):\n",
    "    squered_diffs = [(point[0] - point[1]) ** 2 for point in points]\n",
    "    summed_squered_diffs = sum(squered_diffs)\n",
    "    distance = math.sqrt(summed_squered_diffs)\n",
    "    return distance"
   ]
  },
  {
   "cell_type": "code",
   "execution_count": 120,
   "metadata": {},
   "outputs": [],
   "source": [
    "def similarity(reviews):\n",
    "    return 1 / (1 + euclidean_distance(reviews))"
   ]
  },
  {
   "cell_type": "code",
   "execution_count": 124,
   "metadata": {},
   "outputs": [
    {
     "data": {
      "text/plain": [
       "0.34"
      ]
     },
     "execution_count": 124,
     "metadata": {},
     "output_type": "execute_result"
    }
   ],
   "source": [
    "round(similarity([(5.0, 3.07), (4.29, 4.29)]), 2)"
   ]
  },
  {
   "cell_type": "code",
   "execution_count": 127,
   "metadata": {},
   "outputs": [],
   "source": [
    "def get_critic_similarity(criticA, criticB):\n",
    "    review = get_review(criticA, criticB)\n",
    "    return similarity(review)"
   ]
  },
  {
   "cell_type": "code",
   "execution_count": 129,
   "metadata": {},
   "outputs": [
    {
     "data": {
      "text/plain": [
       "0.34"
      ]
     },
     "execution_count": 129,
     "metadata": {},
     "output_type": "execute_result"
    }
   ],
   "source": [
    "round(get_critic_similarity(\"Marlon Brando\", \"Robert DeNiro\"), 2)"
   ]
  },
  {
   "cell_type": "code",
   "execution_count": 151,
   "metadata": {},
   "outputs": [],
   "source": [
    "def recommend_movies(critic, num_suggestions):\n",
    "    similarity_scores = [(get_critic_similarity(critic, other), other) for other in data if other != critic]\n",
    "\n",
    "    recommendations = {}\n",
    "    for similarity, other in similarity_scores:\n",
    "        reviewed = data[other]\n",
    "        for movie in reviewed:\n",
    "            if movie not in data[critic]:\n",
    "                weight = similarity * reviewed[movie]\n",
    "                if movie in recommendations:\n",
    "                    sim, weights = recommendations[movie]\n",
    "                    recommendations[movie] = (sim + similarity, weights + [weight])\n",
    "                else:\n",
    "                    recommendations[movie] = (similarity, [weight])\n",
    "\n",
    "    for recommendation in recommendations:\n",
    "        similarity, movie = recommendations[recommendation]\n",
    "        recommendations[recommendation] = round(sum(movie) / similarity, 2)\n",
    "\n",
    "    sorted_recommendations = dict(sorted(recommendations.items(), key = operator.itemgetter(1), reverse = True)[:num_suggestions])\n",
    "\n",
    "    return sorted_recommendations"
   ]
  },
  {
   "cell_type": "code",
   "execution_count": 152,
   "metadata": {},
   "outputs": [
    {
     "data": {
      "text/plain": [
       "{'Raiders of the Lost Ark': 5.0,\n",
       " 'Raging Bull': 4.94,\n",
       " 'Goodfellas': 4.94,\n",
       " 'The Shawshank Redemption': 4.93}"
      ]
     },
     "execution_count": 152,
     "metadata": {},
     "output_type": "execute_result"
    }
   ],
   "source": [
    "recommend_movies(\"Marlon Brando\", 4)"
   ]
  },
  {
   "cell_type": "code",
   "execution_count": null,
   "metadata": {},
   "outputs": [],
   "source": []
  },
  {
   "cell_type": "code",
   "execution_count": null,
   "metadata": {},
   "outputs": [],
   "source": []
  }
 ],
 "metadata": {
  "kernelspec": {
   "display_name": "base",
   "language": "python",
   "name": "python3"
  },
  "language_info": {
   "codemirror_mode": {
    "name": "ipython",
    "version": 3
   },
   "file_extension": ".py",
   "mimetype": "text/x-python",
   "name": "python",
   "nbconvert_exporter": "python",
   "pygments_lexer": "ipython3",
   "version": "3.12.3"
  }
 },
 "nbformat": 4,
 "nbformat_minor": 2
}
