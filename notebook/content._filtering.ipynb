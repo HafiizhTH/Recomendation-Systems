{
 "cells": [
  {
   "cell_type": "code",
   "execution_count": 1,
   "metadata": {},
   "outputs": [],
   "source": [
    "import pandas as pd\n",
    "from sklearn.feature_extraction.text import TfidfVectorizer\n",
    "from sklearn.metrics.pairwise import cosine_similarity"
   ]
  },
  {
   "cell_type": "code",
   "execution_count": 2,
   "metadata": {},
   "outputs": [],
   "source": [
    "data = pd.read_csv('https://raw.githubusercontent.com/rfajri27/prototype-text-classifier-app/refs/heads/main/resto.csv')"
   ]
  },
  {
   "cell_type": "code",
   "execution_count": 4,
   "metadata": {},
   "outputs": [
    {
     "data": {
      "text/html": [
       "<div>\n",
       "<style scoped>\n",
       "    .dataframe tbody tr th:only-of-type {\n",
       "        vertical-align: middle;\n",
       "    }\n",
       "\n",
       "    .dataframe tbody tr th {\n",
       "        vertical-align: top;\n",
       "    }\n",
       "\n",
       "    .dataframe thead th {\n",
       "        text-align: right;\n",
       "    }\n",
       "</style>\n",
       "<table border=\"1\" class=\"dataframe\">\n",
       "  <thead>\n",
       "    <tr style=\"text-align: right;\">\n",
       "      <th></th>\n",
       "      <th>id</th>\n",
       "      <th>resto_name</th>\n",
       "      <th>cuisine</th>\n",
       "    </tr>\n",
       "  </thead>\n",
       "  <tbody>\n",
       "    <tr>\n",
       "      <th>0</th>\n",
       "      <td>132560</td>\n",
       "      <td>puesto de gorditas</td>\n",
       "      <td>Regional</td>\n",
       "    </tr>\n",
       "    <tr>\n",
       "      <th>1</th>\n",
       "      <td>132572</td>\n",
       "      <td>Cafe Chaires</td>\n",
       "      <td>Cafeteria</td>\n",
       "    </tr>\n",
       "  </tbody>\n",
       "</table>\n",
       "</div>"
      ],
      "text/plain": [
       "       id          resto_name    cuisine\n",
       "0  132560  puesto de gorditas   Regional\n",
       "1  132572        Cafe Chaires  Cafeteria"
      ]
     },
     "execution_count": 4,
     "metadata": {},
     "output_type": "execute_result"
    }
   ],
   "source": [
    "data.head(2)"
   ]
  },
  {
   "cell_type": "code",
   "execution_count": 6,
   "metadata": {},
   "outputs": [
    {
     "data": {
      "text/plain": [
       "(95, 22)"
      ]
     },
     "execution_count": 6,
     "metadata": {},
     "output_type": "execute_result"
    }
   ],
   "source": [
    "tfidf = TfidfVectorizer()\n",
    "tfidf_matrix = tfidf.fit_transform(data[\"cuisine\"])\n",
    "tfidf_matrix.shape"
   ]
  },
  {
   "cell_type": "code",
   "execution_count": 7,
   "metadata": {},
   "outputs": [
    {
     "data": {
      "text/plain": [
       "matrix([[0., 0., 0., ..., 1., 0., 0.],\n",
       "        [0., 0., 0., ..., 0., 0., 0.],\n",
       "        [1., 0., 0., ..., 0., 0., 0.],\n",
       "        ...,\n",
       "        [0., 0., 0., ..., 0., 0., 0.],\n",
       "        [0., 0., 0., ..., 0., 0., 0.],\n",
       "        [0., 0., 0., ..., 0., 0., 0.]])"
      ]
     },
     "execution_count": 7,
     "metadata": {},
     "output_type": "execute_result"
    }
   ],
   "source": [
    "tfidf_matrix.todense()"
   ]
  },
  {
   "cell_type": "code",
   "execution_count": 8,
   "metadata": {},
   "outputs": [
    {
     "data": {
      "text/plain": [
       "array(['american', 'armenian', 'bar', 'bar_pub_brewery', 'breakfast',\n",
       "       'brunch', 'burgers', 'cafe', 'cafeteria', 'chinese', 'coffee_shop',\n",
       "       'contemporary', 'family', 'fast_food', 'international', 'italian',\n",
       "       'japanese', 'mexican', 'pizzeria', 'regional', 'seafood',\n",
       "       'vietnamese'], dtype=object)"
      ]
     },
     "execution_count": 8,
     "metadata": {},
     "output_type": "execute_result"
    }
   ],
   "source": [
    "tfidf.get_feature_names_out()"
   ]
  },
  {
   "cell_type": "code",
   "execution_count": 9,
   "metadata": {},
   "outputs": [
    {
     "data": {
      "text/plain": [
       "array([[1., 0., 0., ..., 0., 0., 0.],\n",
       "       [0., 1., 0., ..., 0., 0., 0.],\n",
       "       [0., 0., 1., ..., 0., 0., 0.],\n",
       "       ...,\n",
       "       [0., 0., 0., ..., 1., 1., 0.],\n",
       "       [0., 0., 0., ..., 1., 1., 0.],\n",
       "       [0., 0., 0., ..., 0., 0., 1.]])"
      ]
     },
     "execution_count": 9,
     "metadata": {},
     "output_type": "execute_result"
    }
   ],
   "source": [
    "cosine_sim = cosine_similarity(tfidf_matrix, tfidf_matrix)\n",
    "cosine_sim"
   ]
  },
  {
   "cell_type": "code",
   "execution_count": 10,
   "metadata": {},
   "outputs": [],
   "source": [
    "cosine_sim_df = pd.DataFrame(cosine_sim, index=data['resto_name'], columns=data['resto_name'])"
   ]
  },
  {
   "cell_type": "code",
   "execution_count": 12,
   "metadata": {},
   "outputs": [
    {
     "data": {
      "text/html": [
       "<div>\n",
       "<style scoped>\n",
       "    .dataframe tbody tr th:only-of-type {\n",
       "        vertical-align: middle;\n",
       "    }\n",
       "\n",
       "    .dataframe tbody tr th {\n",
       "        vertical-align: top;\n",
       "    }\n",
       "\n",
       "    .dataframe thead th {\n",
       "        text-align: right;\n",
       "    }\n",
       "</style>\n",
       "<table border=\"1\" class=\"dataframe\">\n",
       "  <thead>\n",
       "    <tr style=\"text-align: right;\">\n",
       "      <th>resto_name</th>\n",
       "      <th>puesto de gorditas</th>\n",
       "      <th>Cafe Chaires</th>\n",
       "      <th>McDonalds Centro</th>\n",
       "      <th>Gorditas Dona Tota</th>\n",
       "      <th>tacos de barbacoa enfrente del Tec</th>\n",
       "      <th>Hamburguesas La perica</th>\n",
       "      <th>Pollo_Frito_Buenos_Aires</th>\n",
       "      <th>carnitas_mata</th>\n",
       "      <th>la perica hamburguesa</th>\n",
       "      <th>palomo tec</th>\n",
       "      <th>...</th>\n",
       "      <th>Restaurante Bar El Gallinero</th>\n",
       "      <th>Restaurante la Parroquia Potosina</th>\n",
       "      <th>Mariscos El Pescador</th>\n",
       "      <th>Koye Sushi</th>\n",
       "      <th>Tortas Locas Hipocampo</th>\n",
       "      <th>Mcdonalds Parque Tangamanga</th>\n",
       "      <th>Cafeteria cenidet</th>\n",
       "      <th>vips</th>\n",
       "      <th>El Rincón de San Francisco</th>\n",
       "      <th>Paniroles</th>\n",
       "    </tr>\n",
       "    <tr>\n",
       "      <th>resto_name</th>\n",
       "      <th></th>\n",
       "      <th></th>\n",
       "      <th></th>\n",
       "      <th></th>\n",
       "      <th></th>\n",
       "      <th></th>\n",
       "      <th></th>\n",
       "      <th></th>\n",
       "      <th></th>\n",
       "      <th></th>\n",
       "      <th></th>\n",
       "      <th></th>\n",
       "      <th></th>\n",
       "      <th></th>\n",
       "      <th></th>\n",
       "      <th></th>\n",
       "      <th></th>\n",
       "      <th></th>\n",
       "      <th></th>\n",
       "      <th></th>\n",
       "      <th></th>\n",
       "    </tr>\n",
       "  </thead>\n",
       "  <tbody>\n",
       "    <tr>\n",
       "      <th>puesto de gorditas</th>\n",
       "      <td>1.0</td>\n",
       "      <td>0.0</td>\n",
       "      <td>0.0</td>\n",
       "      <td>0.0</td>\n",
       "      <td>0.0</td>\n",
       "      <td>0.0</td>\n",
       "      <td>0.0</td>\n",
       "      <td>0.0</td>\n",
       "      <td>0.0</td>\n",
       "      <td>0.0</td>\n",
       "      <td>...</td>\n",
       "      <td>0.0</td>\n",
       "      <td>0.0</td>\n",
       "      <td>0.0</td>\n",
       "      <td>0.0</td>\n",
       "      <td>0.0</td>\n",
       "      <td>0.0</td>\n",
       "      <td>0.0</td>\n",
       "      <td>0.0</td>\n",
       "      <td>0.0</td>\n",
       "      <td>0.0</td>\n",
       "    </tr>\n",
       "    <tr>\n",
       "      <th>Cafe Chaires</th>\n",
       "      <td>0.0</td>\n",
       "      <td>1.0</td>\n",
       "      <td>0.0</td>\n",
       "      <td>0.0</td>\n",
       "      <td>0.0</td>\n",
       "      <td>0.0</td>\n",
       "      <td>0.0</td>\n",
       "      <td>0.0</td>\n",
       "      <td>0.0</td>\n",
       "      <td>0.0</td>\n",
       "      <td>...</td>\n",
       "      <td>0.0</td>\n",
       "      <td>0.0</td>\n",
       "      <td>0.0</td>\n",
       "      <td>0.0</td>\n",
       "      <td>0.0</td>\n",
       "      <td>0.0</td>\n",
       "      <td>1.0</td>\n",
       "      <td>0.0</td>\n",
       "      <td>0.0</td>\n",
       "      <td>0.0</td>\n",
       "    </tr>\n",
       "  </tbody>\n",
       "</table>\n",
       "<p>2 rows × 95 columns</p>\n",
       "</div>"
      ],
      "text/plain": [
       "resto_name          puesto de gorditas  Cafe Chaires  McDonalds Centro  \\\n",
       "resto_name                                                               \n",
       "puesto de gorditas                 1.0           0.0               0.0   \n",
       "Cafe Chaires                       0.0           1.0               0.0   \n",
       "\n",
       "resto_name          Gorditas Dona Tota  tacos de barbacoa enfrente del Tec  \\\n",
       "resto_name                                                                   \n",
       "puesto de gorditas                 0.0                                 0.0   \n",
       "Cafe Chaires                       0.0                                 0.0   \n",
       "\n",
       "resto_name          Hamburguesas La perica  Pollo_Frito_Buenos_Aires  \\\n",
       "resto_name                                                             \n",
       "puesto de gorditas                     0.0                       0.0   \n",
       "Cafe Chaires                           0.0                       0.0   \n",
       "\n",
       "resto_name          carnitas_mata  la perica hamburguesa  palomo tec  ...  \\\n",
       "resto_name                                                            ...   \n",
       "puesto de gorditas            0.0                    0.0         0.0  ...   \n",
       "Cafe Chaires                  0.0                    0.0         0.0  ...   \n",
       "\n",
       "resto_name          Restaurante Bar El Gallinero  \\\n",
       "resto_name                                         \n",
       "puesto de gorditas                           0.0   \n",
       "Cafe Chaires                                 0.0   \n",
       "\n",
       "resto_name          Restaurante la Parroquia Potosina  Mariscos El Pescador  \\\n",
       "resto_name                                                                    \n",
       "puesto de gorditas                                0.0                   0.0   \n",
       "Cafe Chaires                                      0.0                   0.0   \n",
       "\n",
       "resto_name          Koye Sushi  Tortas Locas Hipocampo  \\\n",
       "resto_name                                               \n",
       "puesto de gorditas         0.0                     0.0   \n",
       "Cafe Chaires               0.0                     0.0   \n",
       "\n",
       "resto_name          Mcdonalds Parque Tangamanga  Cafeteria cenidet  vips  \\\n",
       "resto_name                                                                 \n",
       "puesto de gorditas                          0.0                0.0   0.0   \n",
       "Cafe Chaires                                0.0                1.0   0.0   \n",
       "\n",
       "resto_name          El Rincón de San Francisco  Paniroles  \n",
       "resto_name                                                 \n",
       "puesto de gorditas                         0.0        0.0  \n",
       "Cafe Chaires                               0.0        0.0  \n",
       "\n",
       "[2 rows x 95 columns]"
      ]
     },
     "execution_count": 12,
     "metadata": {},
     "output_type": "execute_result"
    }
   ],
   "source": [
    "cosine_sim_df.head(2)"
   ]
  },
  {
   "cell_type": "code",
   "execution_count": 13,
   "metadata": {},
   "outputs": [],
   "source": [
    "def resto_recommendations(nama_resto, similarity_data=cosine_sim_df, items=data[['resto_name', 'cuisine']], k=5):\n",
    "    \"\"\"\n",
    "    Rekomendasi Resto berdasarkan kemiripan dataframe\n",
    "\n",
    "    Parameter:\n",
    "    ---\n",
    "    nama_resto : tipe data string (str)\n",
    "                Nama Restoran (index kemiripan dataframe)\n",
    "    similarity_data : tipe data pd.DataFrame (object)\n",
    "                      Kesamaan dataframe, simetrik, dengan resto sebagai\n",
    "                      indeks dan kolom\n",
    "    items : tipe data pd.DataFrame (object)\n",
    "            Mengandung kedua nama dan fitur lainnya yang digunakan untuk mendefinisikan kemiripan\n",
    "    k : tipe data integer (int)\n",
    "        Banyaknya jumlah rekomendasi yang diberikan\n",
    "    ---\n",
    "\n",
    "\n",
    "    Pada index ini, kita mengambil k dengan nilai similarity terbesar\n",
    "    pada index matrix yang diberikan (i).\n",
    "    \"\"\"\n",
    "\n",
    "    index = similarity_data.loc[:,nama_resto].to_numpy().argpartition(\n",
    "        range(-1, -k, -1))\n",
    "\n",
    "    closest = similarity_data.columns[index[-1:-(k+2):-1]]\n",
    "    closest = closest.drop(nama_resto, errors='ignore')\n",
    "\n",
    "    return pd.DataFrame(closest).merge(items).head(k)"
   ]
  },
  {
   "cell_type": "code",
   "execution_count": 14,
   "metadata": {},
   "outputs": [
    {
     "data": {
      "text/html": [
       "<div>\n",
       "<style scoped>\n",
       "    .dataframe tbody tr th:only-of-type {\n",
       "        vertical-align: middle;\n",
       "    }\n",
       "\n",
       "    .dataframe tbody tr th {\n",
       "        vertical-align: top;\n",
       "    }\n",
       "\n",
       "    .dataframe thead th {\n",
       "        text-align: right;\n",
       "    }\n",
       "</style>\n",
       "<table border=\"1\" class=\"dataframe\">\n",
       "  <thead>\n",
       "    <tr style=\"text-align: right;\">\n",
       "      <th></th>\n",
       "      <th>id</th>\n",
       "      <th>resto_name</th>\n",
       "      <th>cuisine</th>\n",
       "    </tr>\n",
       "  </thead>\n",
       "  <tbody>\n",
       "    <tr>\n",
       "      <th>2</th>\n",
       "      <td>132583</td>\n",
       "      <td>McDonalds Centro</td>\n",
       "      <td>American</td>\n",
       "    </tr>\n",
       "  </tbody>\n",
       "</table>\n",
       "</div>"
      ],
      "text/plain": [
       "       id        resto_name   cuisine\n",
       "2  132583  McDonalds Centro  American"
      ]
     },
     "execution_count": 14,
     "metadata": {},
     "output_type": "execute_result"
    }
   ],
   "source": [
    "data[data.resto_name.eq(\"McDonalds Centro\")]"
   ]
  },
  {
   "cell_type": "code",
   "execution_count": 15,
   "metadata": {},
   "outputs": [
    {
     "data": {
      "text/html": [
       "<div>\n",
       "<style scoped>\n",
       "    .dataframe tbody tr th:only-of-type {\n",
       "        vertical-align: middle;\n",
       "    }\n",
       "\n",
       "    .dataframe tbody tr th {\n",
       "        vertical-align: top;\n",
       "    }\n",
       "\n",
       "    .dataframe thead th {\n",
       "        text-align: right;\n",
       "    }\n",
       "</style>\n",
       "<table border=\"1\" class=\"dataframe\">\n",
       "  <thead>\n",
       "    <tr style=\"text-align: right;\">\n",
       "      <th></th>\n",
       "      <th>resto_name</th>\n",
       "      <th>cuisine</th>\n",
       "    </tr>\n",
       "  </thead>\n",
       "  <tbody>\n",
       "    <tr>\n",
       "      <th>0</th>\n",
       "      <td>VIPS</td>\n",
       "      <td>American</td>\n",
       "    </tr>\n",
       "    <tr>\n",
       "      <th>1</th>\n",
       "      <td>McDonalds Centro</td>\n",
       "      <td>American</td>\n",
       "    </tr>\n",
       "    <tr>\n",
       "      <th>2</th>\n",
       "      <td>tacos los volcanes</td>\n",
       "      <td>American</td>\n",
       "    </tr>\n",
       "    <tr>\n",
       "      <th>3</th>\n",
       "      <td>Pizzeria Julios</td>\n",
       "      <td>American</td>\n",
       "    </tr>\n",
       "    <tr>\n",
       "      <th>4</th>\n",
       "      <td>Sirlone</td>\n",
       "      <td>International</td>\n",
       "    </tr>\n",
       "    <tr>\n",
       "      <th>5</th>\n",
       "      <td>Unicols Pizza</td>\n",
       "      <td>Italian</td>\n",
       "    </tr>\n",
       "    <tr>\n",
       "      <th>6</th>\n",
       "      <td>Hamburguesas Valle Dorado</td>\n",
       "      <td>Burgers</td>\n",
       "    </tr>\n",
       "    <tr>\n",
       "      <th>7</th>\n",
       "      <td>Gorditas Doa Gloria</td>\n",
       "      <td>Mexican</td>\n",
       "    </tr>\n",
       "    <tr>\n",
       "      <th>8</th>\n",
       "      <td>puesto de tacos</td>\n",
       "      <td>Mexican</td>\n",
       "    </tr>\n",
       "    <tr>\n",
       "      <th>9</th>\n",
       "      <td>Cenaduria El RincÃ³n de Tlaquepaque</td>\n",
       "      <td>Mexican</td>\n",
       "    </tr>\n",
       "  </tbody>\n",
       "</table>\n",
       "</div>"
      ],
      "text/plain": [
       "                            resto_name        cuisine\n",
       "0                                 VIPS       American\n",
       "1                     McDonalds Centro       American\n",
       "2                   tacos los volcanes       American\n",
       "3                      Pizzeria Julios       American\n",
       "4                              Sirlone  International\n",
       "5                        Unicols Pizza        Italian\n",
       "6            Hamburguesas Valle Dorado        Burgers\n",
       "7                  Gorditas Doa Gloria        Mexican\n",
       "8                      puesto de tacos        Mexican\n",
       "9  Cenaduria El RincÃ³n de Tlaquepaque        Mexican"
      ]
     },
     "execution_count": 15,
     "metadata": {},
     "output_type": "execute_result"
    }
   ],
   "source": [
    "resto_recommendations('KFC', k=10)"
   ]
  },
  {
   "cell_type": "code",
   "execution_count": null,
   "metadata": {},
   "outputs": [],
   "source": []
  }
 ],
 "metadata": {
  "kernelspec": {
   "display_name": "base",
   "language": "python",
   "name": "python3"
  },
  "language_info": {
   "codemirror_mode": {
    "name": "ipython",
    "version": 3
   },
   "file_extension": ".py",
   "mimetype": "text/x-python",
   "name": "python",
   "nbconvert_exporter": "python",
   "pygments_lexer": "ipython3",
   "version": "3.12.3"
  }
 },
 "nbformat": 4,
 "nbformat_minor": 2
}
